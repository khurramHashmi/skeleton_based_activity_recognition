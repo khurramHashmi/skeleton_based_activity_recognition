{
 "cells": [
  {
   "cell_type": "code",
   "execution_count": null,
   "metadata": {},
   "outputs": [],
   "source": [
    "from IPython.core.display import display, HTML\n",
    "display(HTML(\"<style>.container { width:100% !important; }</style>\"))"
   ]
  },
  {
   "cell_type": "code",
   "execution_count": null,
   "metadata": {
    "colab": {},
    "colab_type": "code",
    "id": "K9Zm95pjIBIQ"
   },
   "outputs": [],
   "source": [
    "# load file\n",
    "from torch.utils.data import Dataset, DataLoader,SubsetRandomSampler\n",
    "import os\n",
    "from torch.nn.utils import clip_grad_norm_\n",
    "from torch.nn.utils.rnn import pad_packed_sequence, pad_sequence, pack_padded_sequence\n",
    "from io import open\n",
    "import unicodedata\n",
    "import string\n",
    "import re\n",
    "import random\n",
    "import torch\n",
    "import torch.nn as nn\n",
    "from torch import optim\n",
    "import torch.nn.functional as F\n",
    "import h5py\n",
    "import numpy as np\n",
    "import math\n",
    "from torch.utils.data import random_split\n",
    "import torchvision"
   ]
  },
  {
   "cell_type": "code",
   "execution_count": null,
   "metadata": {
    "colab": {},
    "colab_type": "code",
    "id": "Gwy0-K9CHHpZ"
   },
   "outputs": [],
   "source": [
    "import sys\n",
    "from PCNet import *\n",
    "from utilitiesPC import *\n",
    "from data_loaderPC import *\n",
    "from trainPC import *"
   ]
  },
  {
   "cell_type": "markdown",
   "metadata": {},
   "source": [
    "## Change Your Root"
   ]
  },
  {
   "cell_type": "code",
   "execution_count": null,
   "metadata": {},
   "outputs": [],
   "source": [
    "root = '/home/sukun/ucla_github_pytorch/'"
   ]
  },
  {
   "cell_type": "markdown",
   "metadata": {},
   "source": [
    "# Setting"
   ]
  },
  {
   "cell_type": "code",
   "execution_count": null,
   "metadata": {
    "colab": {
     "base_uri": "https://localhost:8080/",
     "height": 34
    },
    "colab_type": "code",
    "executionInfo": {
     "elapsed": 3267,
     "status": "ok",
     "timestamp": 1594977766627,
     "user": {
      "displayName": "Jingyuan Li",
      "photoUrl": "",
      "userId": "02077201049751083691"
     },
     "user_tz": 420
    },
    "id": "oP5KFEyAgvY6",
    "outputId": "dfc9883b-3524-4807-ef78-0ef404a8c319"
   },
   "outputs": [],
   "source": [
    "## training procedure\n",
    "teacher_force = False\n",
    "fix_weight = True\n",
    "fix_state = False\n",
    "\n",
    "if fix_weight:\n",
    "    network = 'FW'\n",
    "\n",
    "if fix_state:\n",
    "    network = 'FS'\n",
    "\n",
    "if not fix_state and not fix_weight:\n",
    "    network = 'O'\n",
    "\n",
    "# hyperparameter\n",
    "feature_length = 60\n",
    "hidden_size =1024\n",
    "batch_size = 64\n",
    "en_num_layers = 3\n",
    "de_num_layers = 1\n",
    "print_every = 1\n",
    "learning_rate = 0.001\n",
    "epoch = 500\n",
    "\n",
    "device = torch.device(\"cuda\" if torch.cuda.is_available() else \"cpu\")\n",
    "\n",
    "# global variable\n",
    "ProjectFolderName = 'UCLAdata/'\n",
    "root_path = root + ProjectFolderName\n",
    "\n",
    "data_path_train = root_path + 'UCLAtrain50.h5py'\n",
    "dataset_train = MyDataset(data_path_train)\n",
    "\n",
    "data_path_test = root_path + 'UCLAtest50.h5py'\n",
    "dataset_test = MyDataset(data_path_test)\n",
    "\n",
    "shuffle_dataset = True\n",
    "dataset_size_train = len(dataset_train)\n",
    "dataset_size_test = len(dataset_test)\n",
    "\n",
    "indices_train = list(range(dataset_size_train))\n",
    "indices_test = list(range(dataset_size_test))\n",
    "batch_size = 64\n",
    "random_seed = 11111\n",
    "if shuffle_dataset:\n",
    "    np.random.seed(random_seed)\n",
    "    np.random.shuffle(indices_train)\n",
    "    np.random.shuffle(indices_test)\n",
    "\n",
    "print(\"training data length: %d, validation data length: %d\" % (len(indices_train), len(indices_test)))\n",
    "# seperate train and validation\n",
    "train_sampler = SubsetRandomSampler(indices_train)\n",
    "valid_sampler = SubsetRandomSampler(indices_test)\n",
    "\n",
    "train_loader = torch.utils.data.DataLoader(dataset_train, batch_size=batch_size, \n",
    "                           sampler=train_sampler, collate_fn=pad_collate)\n",
    "eval_loader = torch.utils.data.DataLoader(dataset_test, batch_size=batch_size,\n",
    "                                               sampler=valid_sampler, collate_fn=pad_collate)"
   ]
  },
  {
   "cell_type": "markdown",
   "metadata": {},
   "source": [
    "# Training"
   ]
  },
  {
   "cell_type": "code",
   "execution_count": null,
   "metadata": {
    "colab": {
     "base_uri": "https://localhost:8080/",
     "height": 1000
    },
    "colab_type": "code",
    "id": "SzVFbS6t0KMg",
    "outputId": "02262cf7-6ff0-4591-fc48-501cfd3f9bc4"
   },
   "outputs": [],
   "source": [
    "# load model\n",
    "model = seq2seq(feature_length, hidden_size, feature_length, batch_size, \n",
    "                en_num_layers, de_num_layers, fix_state, fix_weight, teacher_force)\n",
    "\n",
    "# initilize weight\n",
    "with torch.no_grad():\n",
    "    for child in list(model.children()):\n",
    "        print(child)\n",
    "        for param in list(child.parameters()):\n",
    "              if param.dim() == 2:\n",
    "                    nn.init.xavier_uniform_(param)\n",
    "#                     nn.init.uniform_(param, a=-0.05, b=0.05)\n",
    "\n",
    "#check whether decoder gru weights are fixed\n",
    "if fix_weight:\n",
    "    print(model.decoder.gru.requires_grad)\n",
    "\n",
    "optimizer = optim.Adam(filter(lambda p: p.requires_grad, model.parameters()), lr=learning_rate)\n",
    "\n",
    "criterion_seq = nn.L1Loss(reduction='none')\n",
    "\n",
    "file_output = open(root+'output/%sen%d_hid%d.txt'% (network, en_num_layers, hidden_size), 'w' ) \n",
    "training(epoch, train_loader, eval_loader, print_every,\n",
    "             model, optimizer, criterion_seq,  file_output,\n",
    "             root, network, en_num_layers, hidden_size, num_class=10,\n",
    "             )"
   ]
  },
  {
   "cell_type": "code",
   "execution_count": null,
   "metadata": {
    "colab": {},
    "colab_type": "code",
    "id": "yUVLCRHPqroh"
   },
   "outputs": [],
   "source": [
    "file_output.close()"
   ]
  }
 ],
 "metadata": {
  "accelerator": "GPU",
  "colab": {
   "collapsed_sections": [],
   "name": "PCmain.ipynb",
   "provenance": [
    {
     "file_id": "1hrxnJ6lpXlV0HpcRFEx9AlGxHhjOgWh3",
     "timestamp": 1594947334542
    },
    {
     "file_id": "1sWQHlpvwyANLhKFDc6w516l6iiTosbG6",
     "timestamp": 1590044347784
    },
    {
     "file_id": "1qi7MmuXCXdKErS0Tg2N-LPSNrqxuLY57",
     "timestamp": 1588019197574
    }
   ]
  },
  "kernelspec": {
   "display_name": "Python pytorch_env",
   "language": "python",
   "name": "pytorch_env"
  },
  "language_info": {
   "codemirror_mode": {
    "name": "ipython",
    "version": 3
   },
   "file_extension": ".py",
   "mimetype": "text/x-python",
   "name": "python",
   "nbconvert_exporter": "python",
   "pygments_lexer": "ipython3",
   "version": "3.7.6"
  }
 },
 "nbformat": 4,
 "nbformat_minor": 1
}
